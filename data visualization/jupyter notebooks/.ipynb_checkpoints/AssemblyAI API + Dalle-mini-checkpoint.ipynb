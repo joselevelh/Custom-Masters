{
 "cells": [
  {
   "cell_type": "markdown",
   "id": "718fca35",
   "metadata": {},
   "source": [
    "### This is a demo of AssemblyAI API and Dalle API"
   ]
  },
  {
   "cell_type": "code",
   "execution_count": 15,
   "id": "7f31e469",
   "metadata": {},
   "outputs": [],
   "source": [
    "import replicate\n",
    "import streamlit as st\n",
    "import urllib.request\n",
    "import webbrowser \n",
    "import os\n",
    "import requests\n",
    "from time import sleep"
   ]
  },
  {
   "cell_type": "code",
   "execution_count": 2,
   "id": "607712d0",
   "metadata": {},
   "outputs": [],
   "source": [
    "# global variables\n",
    "base_endpoint = 'https://api.assemblyai.com/v2'\n",
    "headers = {'authorization': os.environ['api_token']}"
   ]
  },
  {
   "cell_type": "code",
   "execution_count": 3,
   "id": "18e6210e",
   "metadata": {},
   "outputs": [],
   "source": [
    "# function to send audio to assemblyai\n",
    "def post(audio_url):\n",
    "    payload = {\"audio_url\": audio_url,\n",
    "               \"summarization\": True,\n",
    "               \"summary_type\": \"paragraph\"}\n",
    "    response = requests.post(f'{base_endpoint}/transcript', \n",
    "                             json=payload, \n",
    "                             headers=headers)\n",
    "    return response.json()\n",
    "\n",
    "# function to poll assemblyai for transcript\n",
    "def get(transcript_id, status):\n",
    "    current_status = status\n",
    "    while current_status != 'completed':\n",
    "        response = requests.get(f'{base_endpoint}/transcript/{transcript_id}', \n",
    "                                headers=headers)\n",
    "        current_status = response.json()['status']\n",
    "        print(f\"Current Status: {current_status}...\")\n",
    "        sleep(3)\n",
    "    return response.json()"
   ]
  },
  {
   "cell_type": "code",
   "execution_count": 4,
   "id": "3e0f9740",
   "metadata": {},
   "outputs": [
    {
     "name": "stdout",
     "output_type": "stream",
     "text": [
      "processing: rzwg2e1g43-2f1c-45e0-b234-e997d034d7f1\n",
      "Current Status: processing...\n",
      "Current Status: processing...\n",
      "Current Status: processing...\n",
      "Current Status: processing...\n",
      "Current Status: processing...\n",
      "Current Status: processing...\n",
      "Current Status: processing...\n",
      "Current Status: processing...\n",
      "Current Status: processing...\n",
      "Current Status: processing...\n",
      "Current Status: processing...\n",
      "Current Status: processing...\n",
      "Current Status: processing...\n",
      "Current Status: processing...\n",
      "Current Status: processing...\n",
      "Current Status: processing...\n",
      "Current Status: processing...\n",
      "Current Status: processing...\n",
      "Current Status: processing...\n",
      "Current Status: processing...\n",
      "Current Status: processing...\n",
      "Current Status: completed...\n"
     ]
    }
   ],
   "source": [
    "post_response = post(audio_url='https://www.listennotes.com/e/p/bd7844463bac4decaf480a63b121c94d/')\n",
    "print('processing:', post_response['id'])\n",
    "get_response = get(transcript_id=post_response['id'],\n",
    "                       status=post_response['status'])"
   ]
  },
  {
   "cell_type": "code",
   "execution_count": 5,
   "id": "6310d6e8",
   "metadata": {},
   "outputs": [
    {
     "name": "stdout",
     "output_type": "stream",
     "text": [
      "Summary: Today. Michael Pollakar. And you are going to talk about financial independence. Michael and you don't necessarily agree on what retirement means. You don't need 70% of your current income to retire, but you need to do more in the early years to pay off your mortgage.\n"
     ]
    }
   ],
   "source": [
    "print(f\"Summary: {get_response.get('summary')}\")"
   ]
  },
  {
   "cell_type": "code",
   "execution_count": 13,
   "id": "061e1901",
   "metadata": {},
   "outputs": [],
   "source": [
    "# Instantiate stable diffusion model from replicate\n",
    "model = replicate.models.get(\"stability-ai/stable-diffusion\")\n",
    "prefix = \"Drawing of \"\n",
    "output = model.predict(prompt=prefix + get_response.get('summary'))"
   ]
  },
  {
   "cell_type": "code",
   "execution_count": 14,
   "id": "7082de0d",
   "metadata": {},
   "outputs": [
    {
     "data": {
      "text/plain": [
       "True"
      ]
     },
     "execution_count": 14,
     "metadata": {},
     "output_type": "execute_result"
    }
   ],
   "source": [
    "    webbrowser.open(output[0], new=0, autoraise=True)"
   ]
  },
  {
   "cell_type": "code",
   "execution_count": null,
   "id": "036269ed",
   "metadata": {},
   "outputs": [],
   "source": [
    "# Declaring streamlit horizontal containers\n",
    "st_header=st.beta_container()\n",
    "audio_source=st.beta_container()\n",
    "sum_gen=st.beta_container()\n",
    "stable_dif=st.beta_container()\n",
    "use_case=st.beta_container()\n",
    "chapter_sum=st.beta_container()"
   ]
  },
  {
   "cell_type": "code",
   "execution_count": null,
   "id": "96526f91",
   "metadata": {},
   "outputs": [],
   "source": [
    "with st_header:\n",
    "    st.title('AI Draws a Podcast')"
   ]
  }
 ],
 "metadata": {
  "kernelspec": {
   "display_name": "Python 3 (ipykernel)",
   "language": "python",
   "name": "python3"
  },
  "language_info": {
   "codemirror_mode": {
    "name": "ipython",
    "version": 3
   },
   "file_extension": ".py",
   "mimetype": "text/x-python",
   "name": "python",
   "nbconvert_exporter": "python",
   "pygments_lexer": "ipython3",
   "version": "3.9.1"
  }
 },
 "nbformat": 4,
 "nbformat_minor": 5
}
