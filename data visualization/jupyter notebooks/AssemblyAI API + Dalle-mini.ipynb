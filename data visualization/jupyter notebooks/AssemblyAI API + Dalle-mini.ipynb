{
 "cells": [
  {
   "cell_type": "markdown",
   "id": "718fca35",
   "metadata": {},
   "source": [
    "### This is a demo of AssemblyAI API and Dalle API"
   ]
  },
  {
   "cell_type": "code",
   "execution_count": 1,
   "id": "7f31e469",
   "metadata": {},
   "outputs": [],
   "source": [
    "import replicate\n",
    "import streamlit as st\n",
    "import urllib.request\n",
    "import webbrowser \n",
    "import os\n",
    "import requests\n",
    "from time import sleep"
   ]
  },
  {
   "cell_type": "code",
   "execution_count": 18,
   "id": "799d55f0",
   "metadata": {},
   "outputs": [
    {
     "name": "stderr",
     "output_type": "stream",
     "text": [
      "2022-10-26 22:42:52.122 \n",
      "  \u001b[33m\u001b[1mWarning:\u001b[0m to view this Streamlit app on a browser, run it with the following\n",
      "  command:\n",
      "\n",
      "    streamlit run /Library/Frameworks/Python.framework/Versions/3.9/lib/python3.9/site-packages/ipykernel_launcher.py [ARGUMENTS]\n"
     ]
    }
   ],
   "source": [
    "# Declaring streamlit horizontal containers\n",
    "st_header=st.beta_container()\n",
    "audio_source=st.beta_container()\n",
    "sum_gen=st.beta_container()\n",
    "stable_dif=st.beta_container()\n",
    "use_case=st.beta_container()\n",
    "chapter_sum=st.beta_container()"
   ]
  },
  {
   "cell_type": "code",
   "execution_count": null,
   "id": "513ea19a",
   "metadata": {},
   "outputs": [],
   "source": [
    "with st_header:\n",
    "    st.title('AI Draws a Podcast')"
   ]
  },
  {
   "cell_type": "code",
   "execution_count": 19,
   "id": "607712d0",
   "metadata": {},
   "outputs": [],
   "source": [
    "# global variables\n",
    "base_endpoint = 'https://api.assemblyai.com/v2'\n",
    "headers = {'authorization': os.environ['api_token']}"
   ]
  },
  {
   "cell_type": "code",
   "execution_count": 20,
   "id": "18e6210e",
   "metadata": {},
   "outputs": [],
   "source": [
    "# function to send audio to assemblyai\n",
    "def post_chapters(audio_url):\n",
    "    payload = {\"audio_url\": audio_url,\n",
    "               \"auto_chapters\": True,}\n",
    "    response = requests.post(f'{base_endpoint}/transcript',\n",
    "                             json=payload,\n",
    "                             headers=headers)\n",
    "    return response.json()\n",
    "\n",
    "# function to poll assemblyai for transcript\n",
    "def get(transcript_id, status):\n",
    "    current_status = status\n",
    "    while current_status != 'completed':\n",
    "        response = requests.get(f'{base_endpoint}/transcript/{transcript_id}', \n",
    "                                headers=headers)\n",
    "        current_status = response.json()['status']\n",
    "        print(f\"Current Status: {current_status}...\")\n",
    "        sleep(3)\n",
    "    return response.json()"
   ]
  },
  {
   "cell_type": "code",
   "execution_count": 4,
   "id": "3e0f9740",
   "metadata": {},
   "outputs": [
    {
     "name": "stdout",
     "output_type": "stream",
     "text": [
      "processing: rzwg2e1g43-2f1c-45e0-b234-e997d034d7f1\n",
      "Current Status: processing...\n",
      "Current Status: processing...\n",
      "Current Status: processing...\n",
      "Current Status: processing...\n",
      "Current Status: processing...\n",
      "Current Status: processing...\n",
      "Current Status: processing...\n",
      "Current Status: processing...\n",
      "Current Status: processing...\n",
      "Current Status: processing...\n",
      "Current Status: processing...\n",
      "Current Status: processing...\n",
      "Current Status: processing...\n",
      "Current Status: processing...\n",
      "Current Status: processing...\n",
      "Current Status: processing...\n",
      "Current Status: processing...\n",
      "Current Status: processing...\n",
      "Current Status: processing...\n",
      "Current Status: processing...\n",
      "Current Status: processing...\n",
      "Current Status: completed...\n"
     ]
    }
   ],
   "source": [
    "post_response = post(audio_url='https://www.listennotes.com/e/p/bd7844463bac4decaf480a63b121c94d/')\n",
    "print('processing:', post_response['id'])\n",
    "get_response = get(transcript_id=post_response['id'],\n",
    "                       status=post_response['status'])"
   ]
  },
  {
   "cell_type": "code",
   "execution_count": 5,
   "id": "6310d6e8",
   "metadata": {},
   "outputs": [
    {
     "name": "stdout",
     "output_type": "stream",
     "text": [
      "Summary: Today. Michael Pollakar. And you are going to talk about financial independence. Michael and you don't necessarily agree on what retirement means. You don't need 70% of your current income to retire, but you need to do more in the early years to pay off your mortgage.\n"
     ]
    }
   ],
   "source": [
    "print(f\"Summary: {get_response.get('summary')}\")"
   ]
  },
  {
   "cell_type": "code",
   "execution_count": 13,
   "id": "061e1901",
   "metadata": {},
   "outputs": [],
   "source": [
    "# Instantiate stable diffusion model from replicate\n",
    "model = replicate.models.get(\"stability-ai/stable-diffusion\")\n",
    "prefix = \"Drawing of \"\n",
    "output = model.predict(prompt=prefix + get_response.get('summary'))"
   ]
  },
  {
   "cell_type": "code",
   "execution_count": 14,
   "id": "0b4859e0",
   "metadata": {},
   "outputs": [
    {
     "data": {
      "text/plain": [
       "True"
      ]
     },
     "execution_count": 14,
     "metadata": {},
     "output_type": "execute_result"
    }
   ],
   "source": [
    "    webbrowser.open(output[0], new=0, autoraise=True)"
   ]
  },
  {
   "cell_type": "code",
   "execution_count": 25,
   "id": "8a9e18d3",
   "metadata": {},
   "outputs": [
    {
     "name": "stdout",
     "output_type": "stream",
     "text": [
      "processing: rskm9q3iry-47bc-4b0b-9aa2-1aa30760a39b\n",
      "Current Status: processing...\n",
      "Current Status: processing...\n",
      "Current Status: processing...\n",
      "Current Status: processing...\n",
      "Current Status: processing...\n",
      "Current Status: processing...\n",
      "Current Status: processing...\n",
      "Current Status: processing...\n",
      "Current Status: processing...\n",
      "Current Status: processing...\n",
      "Current Status: processing...\n",
      "Current Status: processing...\n",
      "Current Status: processing...\n",
      "Current Status: processing...\n",
      "Current Status: processing...\n",
      "Current Status: processing...\n",
      "Current Status: processing...\n",
      "Current Status: processing...\n",
      "Current Status: processing...\n",
      "Current Status: processing...\n",
      "Current Status: processing...\n",
      "Current Status: processing...\n",
      "Current Status: processing...\n",
      "Current Status: processing...\n",
      "Current Status: processing...\n",
      "Current Status: processing...\n",
      "Current Status: completed...\n"
     ]
    },
    {
     "ename": "AttributeError",
     "evalue": "'list' object has no attribute 'items'",
     "output_type": "error",
     "traceback": [
      "\u001b[0;31m---------------------------------------------------------------------------\u001b[0m",
      "\u001b[0;31mAttributeError\u001b[0m                            Traceback (most recent call last)",
      "Input \u001b[0;32mIn [25]\u001b[0m, in \u001b[0;36m<module>\u001b[0;34m\u001b[0m\n\u001b[1;32m      5\u001b[0m max_chapters \u001b[38;5;241m=\u001b[39m \u001b[38;5;241m5\u001b[39m  \u001b[38;5;66;03m# Limiting chapter count so we don't spend a really long time generating images\u001b[39;00m\n\u001b[1;32m      6\u001b[0m chapter_count \u001b[38;5;241m=\u001b[39m \u001b[38;5;241m0\u001b[39m\n\u001b[0;32m----> 7\u001b[0m \u001b[38;5;28;01mfor\u001b[39;00m chapter_info \u001b[38;5;129;01min\u001b[39;00m \u001b[43mget_chapters_response\u001b[49m\u001b[38;5;241;43m.\u001b[39;49m\u001b[43mget\u001b[49m\u001b[43m(\u001b[49m\u001b[38;5;124;43m\"\u001b[39;49m\u001b[38;5;124;43mchapters\u001b[39;49m\u001b[38;5;124;43m\"\u001b[39;49m\u001b[43m)\u001b[49m\u001b[38;5;241;43m.\u001b[39;49m\u001b[43mitems\u001b[49m():\n\u001b[1;32m      8\u001b[0m     \u001b[38;5;28;01mif\u001b[39;00m chapter_count \u001b[38;5;241m<\u001b[39m max_chapters:\n\u001b[1;32m      9\u001b[0m         output \u001b[38;5;241m=\u001b[39m model\u001b[38;5;241m.\u001b[39mpredict(prompt\u001b[38;5;241m=\u001b[39mprefix \u001b[38;5;241m+\u001b[39m chapter_info\u001b[38;5;241m.\u001b[39mget(\u001b[38;5;124m'\u001b[39m\u001b[38;5;124msummary\u001b[39m\u001b[38;5;124m'\u001b[39m))\n",
      "\u001b[0;31mAttributeError\u001b[0m: 'list' object has no attribute 'items'"
     ]
    }
   ],
   "source": [
    "post_chapters_response = post_chapters(audio_url='https://www.listennotes.com/e/p/bd7844463bac4decaf480a63b121c94d/')\n",
    "print('processing:', post_chapters_response['id'])\n",
    "get_chapters_response = get(transcript_id=post_chapters_response['id'],\n",
    "                                            status=post_chapters_response['status'])\n",
    "max_chapters = 5  # Limiting chapter count so we don't spend a really long time generating images\n",
    "chapter_count = 0"
   ]
  },
  {
   "cell_type": "code",
   "execution_count": 26,
   "id": "f6d7b070",
   "metadata": {},
   "outputs": [],
   "source": [
    "for chapter_info in get_chapters_response.get(\"chapters\"):\n",
    "    if chapter_count < max_chapters:\n",
    "        output = model.predict(prompt=prefix + chapter_info.get('summary'))\n",
    "        webbrowser.open(output[0], new=0, autoraise=True)\n",
    "    else:\n",
    "        print(\"Exceeded max chapter count\")"
   ]
  },
  {
   "cell_type": "code",
   "execution_count": null,
   "id": "138ae269",
   "metadata": {},
   "outputs": [],
   "source": []
  }
 ],
 "metadata": {
  "kernelspec": {
   "display_name": "Python 3 (ipykernel)",
   "language": "python",
   "name": "python3"
  },
  "language_info": {
   "codemirror_mode": {
    "name": "ipython",
    "version": 3
   },
   "file_extension": ".py",
   "mimetype": "text/x-python",
   "name": "python",
   "nbconvert_exporter": "python",
   "pygments_lexer": "ipython3",
   "version": "3.9.1"
  }
 },
 "nbformat": 4,
 "nbformat_minor": 5
}
